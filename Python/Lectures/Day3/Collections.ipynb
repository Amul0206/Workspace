{
 "cells": [
  {
   "cell_type": "code",
   "execution_count": 5,
   "metadata": {},
   "outputs": [
    {
     "name": "stdout",
     "output_type": "stream",
     "text": [
      "Frequency of:  you is :  1\n",
      "Frequency of:  is is :  1\n",
      "Frequency of:  are is :  1\n",
      "Frequency of:  how is :  1\n",
      "Frequency of:  your is :  1\n",
      "Frequency of:  name is :  1\n",
      "Frequency of:  what is :  1\n",
      "Frequency of:  Hello is :  2\n",
      "Frequency of:  World is :  2\n"
     ]
    }
   ],
   "source": [
    "#Collections in Python\n",
    "#Frequency of each word in a string\n",
    "\n",
    "def freq(str):\n",
    "    str_list = str.split()\n",
    "    \n",
    "    unique_words = set(str_list)\n",
    "    \n",
    "    for words in unique_words:\n",
    "        print(\"Frequency of: \", words, \"is : \", str_list.count(words))\n",
    "\n",
    "string = \"Hello World how are you Hello World what is your name\"\n",
    "\n",
    "freq(string)"
   ]
  },
  {
   "cell_type": "code",
   "execution_count": null,
   "metadata": {},
   "outputs": [
    {
     "name": "stdout",
     "output_type": "stream",
     "text": [
      "False\n"
     ]
    }
   ],
   "source": [
    "#Check if a string is a pangram\n",
    "import string\n",
    "\n",
    "s = \"The quick brown fox jumps over the lazy dog\"\n",
    "\n",
    "for letter in string.ascii_lowercase:\n",
    "    if s.lower().count(letter) == 0:\n",
    "        print(False)\n",
    "        break\n",
    "else:\n",
    "    print(True)"
   ]
  },
  {
   "cell_type": "code",
   "execution_count": 19,
   "metadata": {},
   "outputs": [
    {
     "name": "stdout",
     "output_type": "stream",
     "text": [
      "Not Anagram.\n"
     ]
    }
   ],
   "source": [
    "#check if a string is anagram of another\n",
    "\n",
    "s1 = \"pqrs abcd\"\n",
    "s2 = \"abcd pqrrs\"\n",
    "\n",
    "set1 = list(s1)\n",
    "set2 = list(s2)\n",
    "\n",
    "set1.sort()\n",
    "set2.sort()\n",
    "\n",
    "if (set1 == set2):\n",
    "    print(\"Anagram.\")\n",
    "\n",
    "else:\n",
    "    print(\"Not Anagram.\")"
   ]
  },
  {
   "cell_type": "code",
   "execution_count": 31,
   "metadata": {},
   "outputs": [
    {
     "name": "stdout",
     "output_type": "stream",
     "text": [
      "TheFinalClass\n"
     ]
    }
   ],
   "source": [
    "#SnakeCase to CamelCase\n",
    "\n",
    "def SnakeToCamel(str):\n",
    "    \n",
    "    str_new = str.replace(\"_\", \" \")\n",
    "    \n",
    "    str_list = str_new.split()\n",
    "    \n",
    "    new_list = []\n",
    "    \n",
    "    for word in str_list:\n",
    "        capital = word.capitalize()\n",
    "        new_list.append(capital)\n",
    "        \n",
    "    final_string = \"\".join(new_list)\n",
    "    \n",
    "    return final_string\n",
    "\n",
    "str1 = \"the_final_class\"         # type: ignore\n",
    "res = SnakeToCamel(str1)\n",
    "print(res)"
   ]
  },
  {
   "cell_type": "code",
   "execution_count": null,
   "metadata": {},
   "outputs": [
    {
     "name": "stdout",
     "output_type": "stream",
     "text": [
      "the final class\n",
      "['the', 'final', 'class']\n"
     ]
    }
   ],
   "source": [
    "#Testing and Debugging for above program\n",
    "str = \"the_final_class\"\n",
    "\n",
    "str_new = str.replace(\"_\", \" \")\n",
    "   \n",
    "print(str_new) \n",
    "    \n",
    "str_list = str_new.split()\n",
    "\n",
    "print(str_list)"
   ]
  },
  {
   "cell_type": "code",
   "execution_count": 33,
   "metadata": {},
   "outputs": [
    {
     "name": "stdout",
     "output_type": "stream",
     "text": [
      "palindrome\n"
     ]
    }
   ],
   "source": [
    "#palindrome\n",
    "\n",
    "str = 'malayalam'\n",
    "str_reverse = str[::-1]\n",
    "\n",
    "if(str ==str_reverse):\n",
    "    print(\"palindrome\")\n",
    "else:\n",
    "    print(\"Not Palindrome.\")"
   ]
  },
  {
   "cell_type": "code",
   "execution_count": null,
   "metadata": {},
   "outputs": [
    {
     "name": "stdout",
     "output_type": "stream",
     "text": [
      "dict_keys([1, 2, 3])\n",
      "dict_values(['abc', 'pqr', 'pqr'])\n",
      "dict_items([(1, 'abc'), (2, 'pqr'), (3, 'pqr')])\n",
      "\n",
      "1 abc\n",
      "2 pqr\n",
      "3 pqr\n"
     ]
    }
   ],
   "source": [
    "#Dictionaries in Python\n",
    "\n",
    "dict = {1: \"abc\", 2: \"pqr\", 3: \"pqr\"}\n",
    "print(dict.keys())\n",
    "print(dict.values())\n",
    "print(dict.items())\n",
    "\n",
    "print()\n",
    "\n",
    "for key, value in dict.items():\n",
    "    print(key, value)\n",
    "    "
   ]
  },
  {
   "cell_type": "code",
   "execution_count": 40,
   "metadata": {},
   "outputs": [
    {
     "name": "stdout",
     "output_type": "stream",
     "text": [
      "{'H': 1, 'e': 1, 'l': 3, 'o': 2, ' ': 1, 'W': 1, 'r': 1, 'd': 1}\n"
     ]
    }
   ],
   "source": [
    "str = \"Hello World\"\n",
    "\n",
    "lst = list(str)\n",
    "\n",
    "dict = {}\n",
    "\n",
    "for i in lst:\n",
    "    dict[i] = lst.count(i)\n",
    "\n",
    "print(dict)"
   ]
  }
 ],
 "metadata": {
  "kernelspec": {
   "display_name": "base",
   "language": "python",
   "name": "python3"
  },
  "language_info": {
   "codemirror_mode": {
    "name": "ipython",
    "version": 3
   },
   "file_extension": ".py",
   "mimetype": "text/x-python",
   "name": "python",
   "nbconvert_exporter": "python",
   "pygments_lexer": "ipython3",
   "version": "3.8.5"
  }
 },
 "nbformat": 4,
 "nbformat_minor": 2
}
