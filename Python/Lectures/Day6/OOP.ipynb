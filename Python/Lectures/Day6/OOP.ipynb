{
 "cells": [
  {
   "cell_type": "code",
   "execution_count": 4,
   "metadata": {},
   "outputs": [
    {
     "name": "stdout",
     "output_type": "stream",
     "text": [
      "<__main__.Animal object at 0x0000015BA4587760>\n",
      "hello from cat\n",
      "None\n"
     ]
    }
   ],
   "source": [
    "from abc import ABC\n",
    "\n",
    "class Animal(ABC):\n",
    "    \n",
    "    \n",
    "    def hello(self):\n",
    "        pass\n",
    "\n",
    "class Cat(Animal):\n",
    "    def hello(self):\n",
    "        print(\"hello from cat\")\n",
    "\n",
    "a = Animal()\n",
    "print(a)\n",
    "\n",
    "c = Cat()\n",
    "print(c.hello())\n"
   ]
  },
  {
   "cell_type": "code",
   "execution_count": null,
   "metadata": {},
   "outputs": [],
   "source": []
  }
 ],
 "metadata": {
  "kernelspec": {
   "display_name": "base",
   "language": "python",
   "name": "python3"
  },
  "language_info": {
   "codemirror_mode": {
    "name": "ipython",
    "version": 3
   },
   "file_extension": ".py",
   "mimetype": "text/x-python",
   "name": "python",
   "nbconvert_exporter": "python",
   "pygments_lexer": "ipython3",
   "version": "3.8.5"
  }
 },
 "nbformat": 4,
 "nbformat_minor": 2
}
